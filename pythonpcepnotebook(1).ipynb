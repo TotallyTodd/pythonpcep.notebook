
 "cells": [
  {
   "cell_type": "code",
   "execution_count": 4,
   "id": "11e9f83d-0672-4b1c-85b4-06c8e482cc0a",
   "metadata": {},
   "outputs": [
    {
     "name": "stdin",
     "output_type": "stream",
     "text": [
      "Guess the secret number between 1 and 20:  11\n"
     ]
    },
    {
     "name": "stdout",
     "output_type": "stream",
     "text": [
      "Wrong!\n"
     ]
    },
    {
     "name": "stdin",
     "output_type": "stream",
     "text": [
      "Guess the secret number between 1 and 20:  15\n"
     ]
    },
    {
     "name": "stdout",
     "output_type": "stream",
     "text": [
      "Wrong!\n"
     ]
    },
    {
     "name": "stdin",
     "output_type": "stream",
     "text": [
      "Guess the secret number between 1 and 20:  18\n"
     ]
    },
    {
     "name": "stdout",
     "output_type": "stream",
     "text": [
      "Wrong!\n"
     ]
    },
    {
     "name": "stdin",
     "output_type": "stream",
     "text": [
      "Guess the secret number between 1 and 20:  13\n"
     ]
    },
    {
     "name": "stdout",
     "output_type": "stream",
     "text": [
      "Wrong!\n"
     ]
    },
    {
     "name": "stdin",
     "output_type": "stream",
     "text": [
      "Guess the secret number between 1 and 20:  14\n"
     ]
    },
    {
     "name": "stdout",
     "output_type": "stream",
     "text": [
      "Perfect, you guessed the secret number!\n"
     ]
    }
   ],
   "source": [
    "secret_num = 14\n",
    "user_num = int(input('Guess the secret number between 1 and 20: '))\n",
    "while user_num != secret_num:\n",
    "    print('Wrong!')\n",
    "    user_num = int(input('Guess the secret number between 1 and 20: '))\n",
    "else:\n",
    "    print('Perfect, you guessed the secret number!')"
   ]
  },
  {
   "cell_type": "code",
   "execution_count": 5,
   "id": "d5d0dc5b-7a5d-45ab-a083-dd96a28ea28e",
   "metadata": {},
   "outputs": [
    {
     "name": "stdout",
     "output_type": "stream",
     "text": [
      "current letter: h\n",
      "current letter: e\n",
      "current letter: l\n",
      "current letter: l\n",
      "current letter: o\n"
     ]
    }
   ],
   "source": [
    "#strings are special sequence types used to store multiple characters\n",
    "for letter in 'hello':\n",
    "    print('current letter:', letter)"
   ]
  },
  {
   "cell_type": "code",
   "execution_count": 8,
   "id": "3df7811a-4145-466b-b805-c3c3d210d18b",
   "metadata": {},
   "outputs": [
    {
     "name": "stdout",
     "output_type": "stream",
     "text": [
      "1\n",
      "2\n",
      "3\n",
      "4\n",
      "5\n",
      "6\n",
      "7\n",
      "8\n",
      "9\n",
      "10\n",
      "11\n",
      "12\n",
      "13\n",
      "14\n",
      "15\n",
      "16\n",
      "17\n",
      "18\n",
      "19\n",
      "20\n",
      "Finished\n"
     ]
    }
   ],
   "source": [
    "#assign the letters from a string - introduce the range of values - characters like hello - auto assign another character \n",
    "#loops through each character and browses it for each character in the sequence \n",
    "#output from the first through 5th iteration \n",
    "\n",
    "for counter in range(1, 21):\n",
    "    print(counter)\n",
    "    counter += 1\n",
    "print('Finished')"
   ]
  },
  {
   "cell_type": "code",
   "execution_count": 9,
   "id": "242eb63c-ea1f-4219-b198-6c2dfe94414e",
   "metadata": {},
   "outputs": [
    {
     "name": "stdout",
     "output_type": "stream",
     "text": [
      "0\n",
      "1\n",
      "2\n",
      "3\n",
      "4\n",
      "5\n",
      "6\n",
      "7\n",
      "8\n",
      "9\n",
      "10\n",
      "finished\n"
     ]
    }
   ],
   "source": [
    "for counter in range(11):\n",
    "    print(counter)\n",
    "print('finished')"
   ]
  },
  {
   "cell_type": "code",
   "execution_count": 10,
   "id": "3df18b95-8314-46ee-b93b-50bad82d7c80",
   "metadata": {},
   "outputs": [
    {
     "name": "stdout",
     "output_type": "stream",
     "text": [
      "1\n",
      "5\n",
      "9\n"
     ]
    }
   ],
   "source": [
    "for counter in range (1, 11, 4):\n",
    "    print(counter)"
   ]
  },
  {
   "cell_type": "code",
   "execution_count": 12,
   "id": "5a08e285-3e48-4cf9-8bf2-bbaf87a2c24d",
   "metadata": {},
   "outputs": [
    {
     "name": "stdin",
     "output_type": "stream",
     "text": [
      "Enter your name or EXIT to close the program:  Todd\n"
     ]
    },
    {
     "name": "stdout",
     "output_type": "stream",
     "text": [
      "Hello Todd\n"
     ]
    },
    {
     "name": "stdin",
     "output_type": "stream",
     "text": [
      "Enter your name or EXIT to close the program:  John\n"
     ]
    },
    {
     "name": "stdout",
     "output_type": "stream",
     "text": [
      "Hello John\n"
     ]
    },
    {
     "name": "stdin",
     "output_type": "stream",
     "text": [
      "Enter your name or EXIT to close the program:  George\n"
     ]
    },
    {
     "name": "stdout",
     "output_type": "stream",
     "text": [
      "Hello George\n"
     ]
    },
    {
     "name": "stdin",
     "output_type": "stream",
     "text": [
      "Enter your name or EXIT to close the program:  EXIT\n"
     ]
    }
   ],
   "source": [
    "while True:\n",
    "    name = input('Enter your name or EXIT to close the program: ')\n",
    "    if (name == 'EXIT'):\n",
    "        break \n",
    "    print('Hello', name)"
   ]
  },
  {
   "cell_type": "code",
   "execution_count": 14,
   "id": "52fdcfe4-b830-4d4a-8cb9-2819ed0e716c",
   "metadata": {},
   "outputs": [
    {
     "name": "stdout",
     "output_type": "stream",
     "text": [
      "1\n",
      "2\n",
      "3\n",
      "4\n",
      "6\n",
      "7\n",
      "8\n",
      "9\n",
      "11\n",
      "12\n",
      "13\n",
      "14\n",
      "16\n",
      "17\n",
      "18\n",
      "19\n"
     ]
    }
   ],
   "source": [
    "for i in range(1, 21):\n",
    "    if i % 5 == 0:\n",
    "        continue\n",
    "    print(i)"
   ]
  },
  {
   "cell_type": "code",
   "execution_count": 16,
   "id": "b2c26af9-80ed-4e91-9e77-2d1bcf6b38b0",
   "metadata": {},
   "outputs": [
    {
     "ename": "SyntaxError",
     "evalue": "incomplete input (4292476470.py, line 4)",
     "output_type": "error",
     "traceback": [
      "\u001b[1;36m  Cell \u001b[1;32mIn[16], line 4\u001b[1;36m\u001b[0m\n\u001b[1;33m    \u001b[0m\n\u001b[1;37m    ^\u001b[0m\n\u001b[1;31mSyntaxError\u001b[0m\u001b[1;31m:\u001b[0m incomplete input\n"
     ]
    }
   ],
   "source": [
    "#loops additional in python \n",
    "#speciial instruction in python that doesn't do anything \n",
    "for i in range(11):\n",
    "    "
   ]
  },
  {
   "cell_type": "code",
   "execution_count": 19,
   "id": "57d32155-4249-4b9b-bcdb-4235686f21d3",
   "metadata": {},
   "outputs": [
    {
     "name": "stdout",
     "output_type": "stream",
     "text": [
      "1 x 1 = 1\n",
      "1 x 2 = 2\n",
      "1 x 3 = 3\n",
      "1 x 4 = 4\n",
      "1 x 5 = 5\n",
      "2 x 1 = 2\n",
      "2 x 2 = 4\n",
      "2 x 3 = 6\n",
      "2 x 4 = 8\n",
      "2 x 5 = 10\n",
      "3 x 1 = 3\n",
      "3 x 2 = 6\n",
      "3 x 3 = 9\n",
      "3 x 4 = 12\n",
      "3 x 5 = 15\n",
      "4 x 1 = 4\n",
      "4 x 2 = 8\n",
      "4 x 3 = 12\n",
      "4 x 4 = 16\n",
      "4 x 5 = 20\n",
      "5 x 1 = 5\n",
      "5 x 2 = 10\n",
      "5 x 3 = 15\n",
      "5 x 4 = 20\n",
      "5 x 5 = 25\n"
     ]
    }
   ],
   "source": [
    "for i in range(11):\n",
    "    pass\n",
    "\n",
    "#all if elif and else statements require atleast one argument \n",
    "for a in range(1,6):\n",
    "    for b in range(1,6):\n",
    "        print(a, 'x', b, '=', a * b)\n"
   ]
  },
  {
   "cell_type": "code",
   "execution_count": 22,
   "id": "3a7176ad-385e-44b4-a229-75d5a1c40eff",
   "metadata": {},
   "outputs": [
    {
     "name": "stdout",
     "output_type": "stream",
     "text": [
      "2\n",
      "3\n",
      "4\n",
      "else: 5\n"
     ]
    }
   ],
   "source": [
    "i = 2\n",
    "\n",
    "while i < 5:\n",
    "    print(i)\n",
    "    i += 1 \n",
    "else:\n",
    "    print('else:', i)"
   ]
  },
  {
   "cell_type": "code",
   "execution_count": 23,
   "id": "39b9da5f-79b2-4610-9c7a-908eecbd94b9",
   "metadata": {},
   "outputs": [],
   "source": [
    "#introduction to lists - programming - module4 - intro - lists "
   ]
  },
  {
   "cell_type": "code",
   "execution_count": 24,
   "id": "96883a5c-f44f-418c-b70a-cf74fbac76f3",
   "metadata": {},
   "outputs": [],
   "source": [
    "number = 2 \n",
    "number = 5"
   ]
  },
  {
   "cell_type": "code",
   "execution_count": 25,
   "id": "f17dcae2-9104-47e0-8d5a-2f51b957a62d",
   "metadata": {},
   "outputs": [
    {
     "name": "stdout",
     "output_type": "stream",
     "text": [
      "5\n"
     ]
    }
   ],
   "source": [
    "print(number)"
   ]
  },
  {
   "cell_type": "code",
   "execution_count": 26,
   "id": "eef30c3f-5d74-4fe5-8320-53b060288d52",
   "metadata": {},
   "outputs": [],
   "source": [
    "#collection can store more than one value in a single variable \n",
    "#lists tuples and dictionaries\n",
    "\n",
    "city_1 = 'NYC'\n",
    "city_2 = 'LA'\n",
    "city_3 = 'CHI'\n",
    "city_4 = 'HOUSTON'\n",
    "\n",
    "top_cities = ['NY', 'LA', 'CHI', 'SEA', 'ATL']"
   ]
  },
  {
   "cell_type": "code",
   "execution_count": 27,
   "id": "e96452ba-4d40-49b6-8c83-97a5a0a4d1e9",
   "metadata": {},
   "outputs": [
    {
     "data": {
      "text/plain": [
       "'LA'"
      ]
     },
     "execution_count": 27,
     "metadata": {},
     "output_type": "execute_result"
    }
   ],
   "source": [
    "\n",
    "top_cities[1]"
   ]
  },
  {
   "cell_type": "code",
   "execution_count": 28,
   "id": "ab055cf8-647e-41ee-9b1f-332e3d151762",
   "metadata": {},
   "outputs": [
    {
     "data": {
      "text/plain": [
       "'NY'"
      ]
     },
     "execution_count": 28,
     "metadata": {},
     "output_type": "execute_result"
    }
   ],
   "source": [
    "top_cities[0]"
   ]
  },
  {
   "cell_type": "code",
   "execution_count": 29,
   "id": "aae6b67a-2def-4809-906f-d992cf8bc81f",
   "metadata": {},
   "outputs": [
    {
     "ename": "IndexError",
     "evalue": "list index out of range",
     "output_type": "error",
     "traceback": [
      "\u001b[1;31m---------------------------------------------------------------------------\u001b[0m",
      "\u001b[1;31mIndexError\u001b[0m                                Traceback (most recent call last)",
      "Cell \u001b[1;32mIn[29], line 1\u001b[0m\n\u001b[1;32m----> 1\u001b[0m top_cities[\u001b[38;5;241m6\u001b[39m]\n",
      "\u001b[1;31mIndexError\u001b[0m: list index out of range"
     ]
    }
   ],
   "source": [
    "top_cities[6]"
   ]
  },
  {
   "cell_type": "code",
   "execution_count": 30,
   "id": "18e7f34b-259a-4d7f-8cfc-f6b9f7e734ef",
   "metadata": {},
   "outputs": [
    {
     "data": {
      "text/plain": [
       "'ATL'"
      ]
     },
     "execution_count": 30,
     "metadata": {},
     "output_type": "execute_result"
    }
   ],
   "source": [
    "top_cities[-1]"
   ]
  },
  {
   "cell_type": "code",
   "execution_count": 31,
   "id": "8d6cd7a3-184c-4219-bef5-ffe6a1e864d7",
   "metadata": {},
   "outputs": [
    {
     "data": {
      "text/plain": [
       "'SEA'"
      ]
     },
     "execution_count": 31,
     "metadata": {},
     "output_type": "execute_result"
    }
   ],
   "source": [
    "top_cities[-2]"
   ]
  },
  {
   "cell_type": "code",
   "execution_count": 32,
   "id": "cbf28189-0747-4f89-b993-20d1005ec2b1",
   "metadata": {},
   "outputs": [
    {
     "data": {
      "text/plain": [
       "'NY'"
      ]
     },
     "execution_count": 32,
     "metadata": {},
     "output_type": "execute_result"
    }
   ],
   "source": [
    "top_cities[-5]\n"
   ]
  },
  {
   "cell_type": "code",
   "execution_count": 33,
   "id": "c05f86de-b531-4f0f-bf8c-c63805f9c1d6",
   "metadata": {},
   "outputs": [
    {
     "ename": "IndexError",
     "evalue": "list index out of range",
     "output_type": "error",
     "traceback": [
      "\u001b[1;31m---------------------------------------------------------------------------\u001b[0m",
      "\u001b[1;31mIndexError\u001b[0m                                Traceback (most recent call last)",
      "Cell \u001b[1;32mIn[33], line 1\u001b[0m\n\u001b[1;32m----> 1\u001b[0m top_cities[\u001b[38;5;241m-\u001b[39m\u001b[38;5;241m6\u001b[39m]\n",
      "\u001b[1;31mIndexError\u001b[0m: list index out of range"
     ]
    }
   ],
   "source": [
    "top_cities[-6]"
   ]
  },
  {
   "cell_type": "code",
   "execution_count": 34,
   "id": "8c3dd48b-51e6-4ac5-b39a-ce89c7325a90",
   "metadata": {},
   "outputs": [
    {
     "data": {
      "text/plain": [
       "['NY', 'LA']"
      ]
     },
     "execution_count": 34,
     "metadata": {},
     "output_type": "execute_result"
    }
   ],
   "source": [
    "top_cities[:2]"
   ]
  },
  {
   "cell_type": "code",
   "execution_count": 35,
   "id": "9565f71c-03ce-4583-a5c6-6b87276bfa91",
   "metadata": {},
   "outputs": [
    {
     "data": {
      "text/plain": [
       "['NY', 'LA']"
      ]
     },
     "execution_count": 35,
     "metadata": {},
     "output_type": "execute_result"
    }
   ],
   "source": [
    "top_cities[0:2]"
   ]
  },
  {
   "cell_type": "code",
   "execution_count": 36,
   "id": "d0e833fb-e1e7-4f9c-8787-4e14aa22be93",
   "metadata": {},
   "outputs": [
    {
     "data": {
      "text/plain": [
       "[]"
      ]
     },
     "execution_count": 36,
     "metadata": {},
     "output_type": "execute_result"
    }
   ],
   "source": [
    "top_cities[10:15]\n"
   ]
  },
  {
   "cell_type": "code",
   "execution_count": 42,
   "id": "9e627e91-ae54-4e98-a2e9-04818b18855a",
   "metadata": {},
   "outputs": [
    {
     "name": "stdout",
     "output_type": "stream",
     "text": [
      "['NY', 'LA', 'CHI', 'HOUSTON', 'PHOENIX', 'SEA']\n"
     ]
    }
   ],
   "source": [
    "top_city = 'New York City'\n",
    "top_cities = []\n",
    "top_cities = ['NY', 'LA', 'CHI', 'HOUSTON', 'PHOENIX']\n",
    "top_cities.append('SEA')\n",
    "print(top_cities)"
   ]
  },
  {
   "cell_type": "code",
   "execution_count": 39,
   "id": "df3130f9-9b66-4d73-a145-1872e800de9f",
   "metadata": {},
   "outputs": [],
   "source": [
    "del top_cities[2]"
   ]
  },
  {
   "cell_type": "code",
   "execution_count": 40,
   "id": "d47bf25f-5d54-4b88-8cc3-8ecb4ceef278",
   "metadata": {},
   "outputs": [
    {
     "name": "stdout",
     "output_type": "stream",
     "text": [
      "['NYY', 'LA', 'HOUSTON', 'PHOENIX', 'SEA']\n"
     ]
    }
   ],
   "source": [
    "print(top_cities)"
   ]
  },
  {
   "cell_type": "code",
   "execution_count": 43,
   "id": "933f562f-a83a-4205-98e0-2dd33cc9d1b6",
   "metadata": {},
   "outputs": [
    {
     "name": "stdout",
     "output_type": "stream",
     "text": [
      "['NY', 'LA', 'CHI', 'HOUSTON', 'PHOENIX', 'SEA']\n"
     ]
    }
   ],
   "source": [
    "print(top_cities)"
   ]
  },
  {
   "cell_type": "code",
   "execution_count": 44,
   "id": "4f428a0f-83ad-4b06-9110-b9acec681814",
   "metadata": {},
   "outputs": [],
   "source": [
    "del top_cities[:]"
   ]
  },
  {
   "cell_type": "code",
   "execution_count": 45,
   "id": "e66a273a-773d-4ba9-82a0-28ad56224208",
   "metadata": {},
   "outputs": [
    {
     "name": "stdout",
     "output_type": "stream",
     "text": [
      "[]\n"
     ]
    }
   ],
   "source": [
    "print(top_cities)"
   ]
  },
  {
   "cell_type": "code",
   "execution_count": 46,
   "id": "40a4ad63-d154-4cd1-84ac-dc89499211b2",
   "metadata": {},
   "outputs": [],
   "source": [
    "del top_cities"
   ]
  },
  {
   "cell_type": "code",
   "execution_count": null,
   "id": "a4e28fcc-86c4-4122-b494-a0cc6b7b967a",
   "metadata": {},
   "outputs": [],
   "source": []
  },
  {
   "cell_type": "code",
   "execution_count": 47,
   "id": "2171e8d7-2adb-4b49-b8b8-c26e2cbfae9e",
   "metadata": {},
   "outputs": [
    {
     "ename": "NameError",
     "evalue": "name 'top_cities' is not defined",
     "output_type": "error",
     "traceback": [
      "\u001b[1;31m---------------------------------------------------------------------------\u001b[0m",
      "\u001b[1;31mNameError\u001b[0m                                 Traceback (most recent call last)",
      "Cell \u001b[1;32mIn[47], line 1\u001b[0m\n\u001b[1;32m----> 1\u001b[0m \u001b[38;5;28mprint\u001b[39m(top_cities)\n",
      "\u001b[1;31mNameError\u001b[0m: name 'top_cities' is not defined"
     ]
    }
   ],
   "source": [
    "print(top_cities)"
   ]
  },
  {
   "cell_type": "code",
   "execution_count": 48,
   "id": "7d5ca95c-e00c-4fab-a663-72df8086241c",
   "metadata": {},
   "outputs": [
    {
     "name": "stdout",
     "output_type": "stream",
     "text": [
      "hello\n"
     ]
    }
   ],
   "source": [
    "print('hello')"
   ]
  },
  {
   "cell_type": "code",
   "execution_count": 50,
   "id": "262b21c0-ddb5-4ed8-a071-786f7a612460",
   "metadata": {},
   "outputs": [
    {
     "name": "stdin",
     "output_type": "stream",
     "text": [
      "name? todd\n"
     ]
    },
    {
     "name": "stdout",
     "output_type": "stream",
     "text": [
      "todd\n"
     ]
    }
   ],
   "source": [
    "name = input('name?')\n",
    "print(name)"
   ]
  },
  {
   "cell_type": "code",
   "execution_count": 52,
   "id": "1723057e-cf02-4d39-8512-08f945815ab2",
   "metadata": {},
   "outputs": [
    {
     "name": "stdout",
     "output_type": "stream",
     "text": [
      "[7, 9, 5, 6, 8, 4]\n"
     ]
    }
   ],
   "source": [
    "book_rating = [7, 9, 5, 6, 8]\n",
    "book_rating.append(4)\n",
    "print(book_rating)"
   ]
  },
  {
   "cell_type": "code",
   "execution_count": 54,
   "id": "3e4da1fa-2422-4d79-84b5-8c9082de40cf",
   "metadata": {},
   "outputs": [
    {
     "name": "stdout",
     "output_type": "stream",
     "text": [
      "[7, 10, 9, 5, 6, 8, 4]\n"
     ]
    }
   ],
   "source": [
    "#methods are functions that belong to the data itself \n",
    "book_rating.insert(1, 10)\n",
    "print(book_rating)"
   ]
  },
  {
   "cell_type": "code",
   "execution_count": 60,
   "id": "0ef70b6b-adfb-44ba-988b-e779d166fe75",
   "metadata": {},
   "outputs": [
    {
     "name": "stdout",
     "output_type": "stream",
     "text": [
      "Current index: 0 |Current city:  NY\n",
      "Current index: 1 |Current city:  LA\n",
      "Current index: 2 |Current city:  CHI\n",
      "Current index: 3 |Current city:  HOUSTON\n",
      "Current index: 4 |Current city:  PHOENIX\n"
     ]
    }
   ],
   "source": [
    "\n",
    "#strings are sequences that can be iterated one by one and lists are sequences that can be iterated as well \n",
    "top_cities = ['NY', 'LA', 'CHI', 'HOUSTON', 'PHOENIX']\n",
    "for city_index in range(len(top_cities)):\n",
    "    print('Current index:', city_index, '|Current city: ', top_cities[city_index])"
   ]
  },
  {
   "cell_type": "code",
   "execution_count": 62,
   "id": "62030f65-96be-4df5-9a3d-b521a903e258",
   "metadata": {},
   "outputs": [
    {
     "name": "stdout",
     "output_type": "stream",
     "text": [
      "Total spendings 158.102\n"
     ]
    }
   ],
   "source": [
    "spendings = [32.45, 18.65, 23.45, 78.32, 5.232]\n",
    "sum = 0 \n",
    "for spending in spendings:\n",
    "    sum += spending \n",
    "print('Total spendings', sum)"
   ]
  },
  {
   "cell_type": "code",
   "execution_count": 67,
   "id": "925db459-ff87-4128-9657-9a0b900d0866",
   "metadata": {},
   "outputs": [
    {
     "name": "stdin",
     "output_type": "stream",
     "text": [
      "Enter first number:  21\n",
      "Enter second number:  22\n"
     ]
    },
    {
     "name": "stdout",
     "output_type": "stream",
     "text": [
      "Before swapping:  21 22\n",
      "After swapping:  22 21\n"
     ]
    }
   ],
   "source": [
    "first = input('Enter first number: ')\n",
    "second = input('Enter second number: ')\n",
    "\n",
    "print('Before swapping: ', first, second)\n",
    "first, second = second, first\n",
    "print('After swapping: ', first, second)"
   ]
  },
  {
   "cell_type": "code",
   "execution_count": 68,
   "id": "cf9e1099-a4b1-4177-8340-4621ee311d64",
   "metadata": {},
   "outputs": [],
   "source": [
    "top_cities = ['NY', 'LA', 'CHI', 'SEA', 'ATL']\n",
    "top_cities.sort()"
   ]
  },
  {
   "cell_type": "code",
   "execution_count": 69,
   "id": "e023177e-1d77-4243-a4f3-108ea7518f9b",
   "metadata": {},
   "outputs": [
    {
     "name": "stdout",
     "output_type": "stream",
     "text": [
      "['ATL', 'CHI', 'LA', 'NY', 'SEA']\n"
     ]
    }
   ],
   "source": [
    "print(top_cities)"
   ]
  },
  {
   "cell_type": "code",
   "execution_count": 75,
   "id": "69ae9a94-a35a-4220-8cf5-bccb3fe5451b",
   "metadata": {},
   "outputs": [
    {
     "name": "stdout",
     "output_type": "stream",
     "text": [
      "[-3, 0, 2, 4, 5]\n"
     ]
    }
   ],
   "source": [
    "random_numbers = [2, 5, 0, -3, 4]\n",
    "print(sorted(random_numbers))"
   ]
  },
  {
   "cell_type": "code",
   "execution_count": 76,
   "id": "9607dabc-0ebe-4ec3-9356-e8f90d67ed5a",
   "metadata": {},
   "outputs": [
    {
     "name": "stdout",
     "output_type": "stream",
     "text": [
      "[2, 5, 0, -3, 4]\n"
     ]
    }
   ],
   "source": [
    "print(random_numbers)"
   ]
  },
  {
   "cell_type": "code",
   "execution_count": 78,
   "id": "e7dd4f6c-86a8-49ec-9723-e76de28ee0c8",
   "metadata": {},
   "outputs": [
    {
     "name": "stdin",
     "output_type": "stream",
     "text": [
      "What is your name?  Todd\n"
     ]
    },
    {
     "name": "stdout",
     "output_type": "stream",
     "text": [
      "Sorry you are not invited!\n"
     ]
    }
   ],
   "source": [
    "invited_guests = ['Kate', 'Kerry', 'Joe', 'Anne', 'Marie']\n",
    "name = input('What is your name? ')\n",
    "if name not in invited_guests:\n",
    "    print('Sorry you are not invited!')"
   ]
  },
  {
   "cell_type": "code",
   "execution_count": 79,
   "id": "9b2486d6-b358-46a7-8fc6-02f2d243c556",
   "metadata": {},
   "outputs": [],
   "source": [
    "name_original = 'John Snow'\n",
    "name_new = name_original"
   ]
  },
  {
   "cell_type": "code",
   "execution_count": 80,
   "id": "f1260ab2-3507-48e2-867f-41cccfcd1263",
   "metadata": {},
   "outputs": [
    {
     "name": "stdout",
     "output_type": "stream",
     "text": [
      "John Snow\n"
     ]
    }
   ],
   "source": [
    "print(name_original)"
   ]
  },
  {
   "cell_type": "code",
   "execution_count": 81,
   "id": "89aa2f46-d6ec-4db5-bc09-58dd71db95df",
   "metadata": {},
   "outputs": [],
   "source": [
    "name_new = 'Daniel Boone'"
   ]
  },
  {
   "cell_type": "code",
   "execution_count": 82,
   "id": "36c131cb-283e-4dac-9557-5ccc4298b1b7",
   "metadata": {},
   "outputs": [
    {
     "name": "stdout",
     "output_type": "stream",
     "text": [
      "John Snow\n",
      "Daniel Boone\n"
     ]
    }
   ],
   "source": [
    "print(name_original)\n",
    "print(name_new)"
   ]
  },
  {
   "cell_type": "code",
   "execution_count": 83,
   "id": "986d47dd-7043-44e2-8384-aa668162ce21",
   "metadata": {},
   "outputs": [
    {
     "name": "stdout",
     "output_type": "stream",
     "text": [
      "[-5, 2, 3]\n"
     ]
    }
   ],
   "source": [
    "list_original = [1, 2, 3]\n",
    "list_new = list_original\n",
    "list_original[0] = -5\n",
    "print(list_new)"
   ]
  },
  {
   "cell_type": "code",
   "execution_count": 84,
   "id": "f31b1622-915b-4728-ab86-0913ef80c19c",
   "metadata": {},
   "outputs": [
    {
     "name": "stdout",
     "output_type": "stream",
     "text": [
      "[-5, 2, 3]\n"
     ]
    }
   ],
   "source": [
    "print(list_original)"
   ]
  },
  {
   "cell_type": "code",
   "execution_count": 86,
   "id": "b9fd50fb-266d-4308-b7b8-9d236a4ba900",
   "metadata": {},
   "outputs": [],
   "source": [
    "list_original = [1,2,3]\n",
    "list_new = list_original[:]"
   ]
  },
  {
   "cell_type": "code",
   "execution_count": 87,
   "id": "07c124c5-422b-442d-8898-134fefb74d44",
   "metadata": {},
   "outputs": [
    {
     "name": "stdout",
     "output_type": "stream",
     "text": [
      "[1, 2, 3] \n",
      " [5, 2, 3]\n"
     ]
    }
   ],
   "source": [
    "list_new[0]=5\n",
    "print(list_original ,'\\n', list_new)\n"
   ]
  },
  {
   "cell_type": "code",
   "execution_count": 95,
   "id": "399970ec-ca96-4234-a945-e1799f7c7d16",
   "metadata": {},
   "outputs": [
    {
     "name": "stdout",
     "output_type": "stream",
     "text": [
      "[0, 3, 6, 9, 12, 15, 18, 21, 24, 27, 30, 33, 36, 39, 42, 45, 48, 51, 54, 57, 60, 63, 66, 69, 72, 75, 78, 81, 84, 87, 90, 93, 96, 99]\n"
     ]
    }
   ],
   "source": [
    "list1 = [i for i in range(101) if i % 3 == 0]\n",
    "print(list1)"
   ]
  },
  {
   "cell_type": "code",
   "execution_count": 92,
   "id": "9508424a-3b74-4a70-9f21-110967fe4b98",
   "metadata": {},
   "outputs": [
    {
     "name": "stdout",
     "output_type": "stream",
     "text": [
      "[1, 2, 3, 4, 5, 6, 7, 8, 9, 10]\n"
     ]
    }
   ],
   "source": [
    "#create a list from a range function, using list comprehension \n",
    "list2 = []\n",
    "for i in range (1, 11):\n",
    "    list2.append(i)\n",
    "print(list2)"
   ]
  },
  {
   "cell_type": "code",
   "execution_count": 103,
   "id": "44c8e36a-ac74-452c-8744-da3fa2b14fdc",
   "metadata": {},
   "outputs": [
    {
     "name": "stdout",
     "output_type": "stream",
     "text": [
      "['b1', 'b2', 'b3'] ['b1', 'b2', 'b3'] "
     ]
    }
   ],
   "source": [
    "number = [1, 2, 3, 4]\n",
    "countries = ['Uk', 'US', 'Germany']\n",
    "countries = [1, 'Uk', 2, 'US']\n",
    "table = [['a1', 'a2', 'a3'],['b1', 'b2', 'b3']]\n",
    "for row in table:\n",
    "    print(cell, '', end='')"
   ]
  },
  {
   "cell_type": "code",
   "execution_count": 102,
   "id": "0b88598f-dfe9-4d4f-a09b-e2695e7aeeee",
   "metadata": {},
   "outputs": [
    {
     "name": "stdout",
     "output_type": "stream",
     "text": [
      "Element:  a1\n",
      "Element:  a2\n",
      "Element:  a3\n",
      "Element:  b1\n",
      "Element:  b2\n",
      "Element:  b3\n"
     ]
    }
   ],
   "source": [
    "for x in cells:\n",
    "    for y in x:\n",
    "        print('Element: ', y)"
   ]
  },
  {
   "cell_type": "code",
   "execution_count": 105,
   "id": "1099bfd7-9ed7-4f61-833d-1d0d6710d268",
   "metadata": {},
   "outputs": [],
   "source": [
    "table = [[i for i in range(1, 6)] for j in range(4)]"
   ]
  },
  {
   "cell_type": "code",
   "execution_count": 106,
   "id": "0a881243-847e-402c-942a-2a9b8774952d",
   "metadata": {},
   "outputs": [
    {
     "name": "stdout",
     "output_type": "stream",
     "text": [
      "[[1, 2, 3, 4, 5], [1, 2, 3, 4, 5], [1, 2, 3, 4, 5], [1, 2, 3, 4, 5]]\n"
     ]
    }
   ],
   "source": [
    "print(table)"
   ]
  },
  {
   "cell_type": "code",
   "execution_count": 107,
   "id": "cab06b46-b222-4b5b-8ae5-8fee5ed83010",
   "metadata": {},
   "outputs": [
    {
     "name": "stdout",
     "output_type": "stream",
     "text": [
      "['ny', 'chi', 'london', 'bristol']\n"
     ]
    }
   ],
   "source": [
    "list_us = ['ny', 'chi']\n",
    "list_uk = ['london', 'bristol']\n",
    "list_all = list_us + list_uk\n",
    "print(list_all)"
   ]
  },
  {
   "cell_type": "code",
   "execution_count": 109,
   "id": "4e6d5cca-4e0e-4028-b2cf-e457aa2fbc2b",
   "metadata": {},
   "outputs": [
    {
     "name": "stdout",
     "output_type": "stream",
     "text": [
      "D\n"
     ]
    }
   ],
   "source": [
    "fav_band = 'Green Day'\n",
    "print(fav_band[6])"
   ]
  },
  {
   "cell_type": "code",
   "execution_count": 110,
   "id": "3070c3d6-8cda-4432-acf6-ada9bb87bd5d",
   "metadata": {},
   "outputs": [
    {
     "ename": "TypeError",
     "evalue": "'str' object does not support item assignment",
     "output_type": "error",
     "traceback": [
      "\u001b[1;31m---------------------------------------------------------------------------\u001b[0m",
      "\u001b[1;31mTypeError\u001b[0m                                 Traceback (most recent call last)",
      "Cell \u001b[1;32mIn[110], line 1\u001b[0m\n\u001b[1;32m----> 1\u001b[0m fav_band[\u001b[38;5;241m6\u001b[39m] \u001b[38;5;241m=\u001b[39m \u001b[38;5;124m'\u001b[39m\u001b[38;5;124mM\u001b[39m\u001b[38;5;124m'\u001b[39m\n",
      "\u001b[1;31mTypeError\u001b[0m: 'str' object does not support item assignment"
     ]
    }
   ],
   "source": [
    "fav_band[6] = 'M'"
   ]
  },
  {
   "cell_type": "code",
   "execution_count": 111,
   "id": "122cd587-beb5-4755-b67a-b67b3927a483",
   "metadata": {},
   "outputs": [
    {
     "name": "stdout",
     "output_type": "stream",
     "text": [
      "PLEASE CAPITALISE ME\n"
     ]
    }
   ],
   "source": [
    "text = 'please capitalise me'\n",
    "text_cap = text.upper()\n",
    "print(text_cap)"
   ]
  },
  {
   "cell_type": "code",
   "execution_count": 113,
   "id": "83b5958b-cab7-4a0e-a017-3e707cb6880c",
   "metadata": {},
   "outputs": [
    {
     "name": "stdin",
     "output_type": "stream",
     "text": [
      "Please provide a number:  4\n"
     ]
    },
    {
     "name": "stdout",
     "output_type": "stream",
     "text": [
      "Thank you that's a number.\n"
     ]
    }
   ],
   "source": [
    "user_number = input('Please provide a number: ')\n",
    "if user_number.isnumeric():\n",
    "    print('Thank you that\\'s a number.')\n",
    "else:\n",
    "    print('Sorry,  that was not a number')\n",
    "    \n",
    "    "
   ]
  },
  {
   "cell_type": "code",
   "execution_count": 114,
   "id": "9711c89b-7cce-4b6d-a449-1f8f9d015344",
   "metadata": {},
   "outputs": [
    {
     "name": "stdout",
     "output_type": "stream",
     "text": [
      "(1, 2, 3)\n"
     ]
    }
   ],
   "source": [
    "empty_tuple = ()\n",
    "one_el_tuple = (1,)\n",
    "one_el_tuple_b = 1, \n",
    "three_el_tuple = 1, 2, 3\n",
    "print(three_el_tuple)"
   ]
  },
  {
   "cell_type": "code",
   "execution_count": 115,
   "id": "8a249220-e682-42a2-9fbd-075527d0259b",
   "metadata": {},
   "outputs": [
    {
     "name": "stdout",
     "output_type": "stream",
     "text": [
      "(1, 2, 3)\n"
     ]
    }
   ],
   "source": [
    "print(three_el_tuple)"
   ]
  },
  {
   "cell_type": "code",
   "execution_count": 116,
   "id": "f1ebca41-9ca9-4118-b035-8459ad97f1ac",
   "metadata": {},
   "outputs": [],
   "source": [
    "user_data = ('John', 'American', 1964)\n",
    "user_data = ('Katya', 'Russian', 1988)"
   ]
  },
  {
   "cell_type": "code",
   "execution_count": 117,
   "id": "c5e8af74-069d-4002-9758-8e051902c3e3",
   "metadata": {},
   "outputs": [
    {
     "name": "stdout",
     "output_type": "stream",
     "text": [
      "('Katya', 'Russian', 1988)\n"
     ]
    }
   ],
   "source": [
    "\n",
    "print(user_data)"
   ]
  },
  {
   "cell_type": "code",
   "execution_count": 118,
   "id": "66682844-441c-4408-ae33-d474aa296cf5",
   "metadata": {},
   "outputs": [
    {
     "name": "stdout",
     "output_type": "stream",
     "text": [
      "Katya\n"
     ]
    }
   ],
   "source": [
    "print(user_data[0])"
   ]
  },
  {
   "cell_type": "code",
   "execution_count": 119,
   "id": "ca247a4f-9c96-4318-9561-dfda838f35a4",
   "metadata": {},
   "outputs": [
    {
     "ename": "TypeError",
     "evalue": "'tuple' object does not support item assignment",
     "output_type": "error",
     "traceback": [
      "\u001b[1;31m---------------------------------------------------------------------------\u001b[0m",
      "\u001b[1;31mTypeError\u001b[0m                                 Traceback (most recent call last)",
      "Cell \u001b[1;32mIn[119], line 1\u001b[0m\n\u001b[1;32m----> 1\u001b[0m user_data[\u001b[38;5;241m0\u001b[39m] \u001b[38;5;241m=\u001b[39m \u001b[38;5;124m'\u001b[39m\u001b[38;5;124mMark\u001b[39m\u001b[38;5;124m'\u001b[39m\n",
      "\u001b[1;31mTypeError\u001b[0m: 'tuple' object does not support item assignment"
     ]
    }
   ],
   "source": [
    "user_data[0] = 'Mark'"
   ]
  },
  {
   "cell_type": "code",
   "execution_count": 120,
   "id": "9833fd05-9939-4735-9120-1f0a27c4c203",
   "metadata": {},
   "outputs": [
    {
     "name": "stdout",
     "output_type": "stream",
     "text": [
      "Welcome\n"
     ]
    }
   ],
   "source": [
    "message = 'Message'\n",
    "message = 'Welcome'\n",
    "print(message)"
   ]
  },
  {
   "cell_type": "code",
   "execution_count": 121,
   "id": "f8a07eff-6629-4f86-ba2f-05ddff74becd",
   "metadata": {},
   "outputs": [
    {
     "ename": "TypeError",
     "evalue": "'str' object does not support item assignment",
     "output_type": "error",
     "traceback": [
      "\u001b[1;31m---------------------------------------------------------------------------\u001b[0m",
      "\u001b[1;31mTypeError\u001b[0m                                 Traceback (most recent call last)",
      "Cell \u001b[1;32mIn[121], line 1\u001b[0m\n\u001b[1;32m----> 1\u001b[0m message[\u001b[38;5;241m0\u001b[39m] \u001b[38;5;241m=\u001b[39m \u001b[38;5;124m'\u001b[39m\u001b[38;5;124mW\u001b[39m\u001b[38;5;124m'\u001b[39m\n",
      "\u001b[1;31mTypeError\u001b[0m: 'str' object does not support item assignment"
     ]
    }
   ],
   "source": [
    "message[0] = 'W'\n"
   ]
  },
  {
   "cell_type": "code",
   "execution_count": 122,
   "id": "e519c782-2768-4d1c-a03d-9a59f8abe8ef",
   "metadata": {},
   "outputs": [
    {
     "name": "stdout",
     "output_type": "stream",
     "text": [
      "Welcome\n"
     ]
    }
   ],
   "source": [
    "print(message)"
   ]
  },
  {
   "cell_type": "code",
   "execution_count": 123,
   "id": "bfe74e73-7fcd-4a75-b118-d25ae5c52efd",
   "metadata": {},
   "outputs": [
    {
     "name": "stdout",
     "output_type": "stream",
     "text": [
      "3\n"
     ]
    }
   ],
   "source": [
    "user_data = ('John', 'American', 1964)\n",
    "print(len(user_data))\n"
   ]
  },
  {
   "cell_type": "code",
   "execution_count": 124,
   "id": "8a4e9851-7d4c-443d-9392-ff580bb32ed3",
   "metadata": {},
   "outputs": [
    {
     "name": "stdout",
     "output_type": "stream",
     "text": [
      "John\n",
      "American\n",
      "1964\n"
     ]
    }
   ],
   "source": [
    "for element in user_data:\n",
    "    print(element)"
   ]
  },
  {
   "cell_type": "code",
   "execution_count": 127,
   "id": "52284adf-9dad-4926-90a6-393872a42445",
   "metadata": {},
   "outputs": [
    {
     "name": "stdout",
     "output_type": "stream",
     "text": [
      "('Katya', 'Russian', 1988, 'teacher', 'male')\n"
     ]
    }
   ],
   "source": [
    "user_data = ('Katya', 'Russian', 1988) + ('teacher', 'male')\n",
    "print(user_data)"
   ]
  },
  {
   "cell_type": "code",
   "execution_count": 128,
   "id": "ae148af4-afa6-40d8-9c79-b9855102f59b",
   "metadata": {},
   "outputs": [
    {
     "name": "stdout",
     "output_type": "stream",
     "text": [
      "['Adam', 'Jerry', 'Mark']\n"
     ]
    }
   ],
   "source": [
    "male_name = ['Adam', 'Jerry', 'Mark']\n",
    "print(male_name)"
   ]
  },
  {
   "cell_type": "code",
   "execution_count": 130,
   "id": "20029dbc-d363-4faa-8b75-de6b40a66ee5",
   "metadata": {},
   "outputs": [
    {
     "name": "stdout",
     "output_type": "stream",
     "text": [
      "7 5\n"
     ]
    }
   ],
   "source": [
    "first = 5\n",
    "second = 7 \n",
    "first, second = second, first\n",
    "print(first, second)"
   ]
  },
  {
   "cell_type": "code",
   "execution_count": 132,
   "id": "03d6ac97-63a1-4351-a338-c7c4c5ed0a35",
   "metadata": {},
   "outputs": [
    {
     "name": "stdout",
     "output_type": "stream",
     "text": [
      "Name: London , Country: UK , Population: 8.98\n",
      "Name: Canberra , Country: Australia , Population: 0.4\n",
      "Name: Algiers , Country: Algeria , Population: 3.9\n"
     ]
    }
   ],
   "source": [
    "city_1 = ('London', 'UK', 8.98)\n",
    "city_2 = ('Canberra', 'Australia', 0.4)\n",
    "city_3 = ('Algiers', 'Algeria', 3.9)\n",
    "\n",
    "capitals = [('London', 'UK', 8.98), ('Canberra', 'Australia', 0.4), ('Algiers', 'Algeria', 3.9)]\n",
    "for capital in capitals:\n",
    "    print('Name:', capital[0], ', Country:', capital[1], ', Population:', capital[2])"
   ]
  },
  {
   "cell_type": "code",
   "execution_count": 133,
   "id": "b8b71d5c-76f8-4027-b4c5-38ab1460b4b2",
   "metadata": {},
   "outputs": [],
   "source": [
    "user_data = ('John', 'American', 1964, [77.0, 78.2, 77.5])"
   ]
  },
  {
   "cell_type": "code",
   "execution_count": 134,
   "id": "423759f4-ebf2-4da1-988f-06d6a9c53974",
   "metadata": {},
   "outputs": [
    {
     "name": "stdout",
     "output_type": "stream",
     "text": [
      "('John', 'American', 1964, [77.0, 78.2, 77.5])\n"
     ]
    }
   ],
   "source": [
    "print(user_data)"
   ]
  },
  {
   "cell_type": "code",
   "execution_count": 137,
   "id": "90321c0a-249f-4f8d-9611-9a2d822dbd83",
   "metadata": {},
   "outputs": [],
   "source": [
    "user_data[3].append(3.5)"
   ]
  },
  {
   "cell_type": "code",
   "execution_count": 138,
   "id": "b75a7320-4119-4320-9783-761ea551066e",
   "metadata": {},
   "outputs": [
    {
     "name": "stdout",
     "output_type": "stream",
     "text": [
      "('John', 'American', 1964, [77.0, 78.2, 77.5, 3.5])\n"
     ]
    }
   ],
   "source": [
    "print(user_data)"
   ]
  },
  {
   "cell_type": "code",
   "execution_count": 139,
   "id": "b013eb6e-b707-4a16-be90-de44e55e7267",
   "metadata": {},
   "outputs": [
    {
     "name": "stdout",
     "output_type": "stream",
     "text": [
      "{'Anne Stahl': 'astahl@gmail.com', 'Peter Small': 'psmall@gmail.com', 'Mark Steel': 'mark@steel.com'}\n"
     ]
    }
   ],
   "source": [
    "emails = {\n",
    "    'Anne Stahl': 'astahl@gmail.com', \n",
    "    'Peter Small': 'psmall@gmail.com', \n",
    "    'Mark Steel': 'mark@steel.com'\n",
    "}\n",
    "print(emails)"
   ]
  },
  {
   "cell_type": "code",
   "execution_count": 140,
   "id": "dba95260-9241-4e58-89a1-3f14eb473b13",
   "metadata": {},
   "outputs": [
    {
     "ename": "KeyError",
     "evalue": "1",
     "output_type": "error",
     "traceback": [
      "\u001b[1;31m---------------------------------------------------------------------------\u001b[0m",
      "\u001b[1;31mKeyError\u001b[0m                                  Traceback (most recent call last)",
      "Cell \u001b[1;32mIn[140], line 1\u001b[0m\n\u001b[1;32m----> 1\u001b[0m \u001b[38;5;28mprint\u001b[39m(emails[\u001b[38;5;241m1\u001b[39m])\n",
      "\u001b[1;31mKeyError\u001b[0m: 1"
     ]
    }
   ],
   "source": [
    "\n",
    "print(emails[1])"
   ]
  },
  {
   "cell_type": "code",
   "execution_count": 141,
   "id": "e98f90bc-22e8-441a-8384-b71bbdaef0b4",
   "metadata": {},
   "outputs": [
    {
     "name": "stdout",
     "output_type": "stream",
     "text": [
      "mark@steel.com\n"
     ]
    }
   ],
   "source": [
    "\n",
    "print(emails['Mark Steel'])"
   ]
  },
  {
   "cell_type": "code",
   "execution_count": 142,
   "id": "69ac83e0-120d-44b2-ab4d-d1ff92de48f0",
   "metadata": {},
   "outputs": [],
   "source": [
    "spanish_animals = {\n",
    "    'dog' : 'el perro', \n",
    "    'cat': 'el cato', \n",
    "    'bird': 'el parrot'}"
   ]
  },
  {
   "cell_type": "code",
   "execution_count": 143,
   "id": "2bdf69dd-0aaa-4d53-9966-0a2bb1e5d485",
   "metadata": {},
   "outputs": [
    {
     "data": {
      "text/plain": [
       "'el perro'"
      ]
     },
     "execution_count": 143,
     "metadata": {},
     "output_type": "execute_result"
    }
   ],
   "source": [
    "spanish_animals['dog']"
   ]
  },
  {
   "cell_type": "code",
   "execution_count": 144,
   "id": "a47ca1e5-c2c8-47bf-9fc5-64f10a442e25",
   "metadata": {},
   "outputs": [],
   "source": [
    "#dictionary operations - \n",
    "\n",
    "grades = {}\n",
    "grades['John'] = 'A'"
   ]
  },
  {
   "cell_type": "code",
   "execution_count": 145,
   "id": "11a40fef-6af6-4755-9443-ac2f1bd84698",
   "metadata": {},
   "outputs": [
    {
     "name": "stdout",
     "output_type": "stream",
     "text": [
      "{'John': 'A'}\n"
     ]
    }
   ],
   "source": [
    "\n",
    "print(grades)"
   ]
  },
  {
   "cell_type": "code",
   "execution_count": 146,
   "id": "b5875c83-ec02-47ae-a667-d64f9f7bfb9f",
   "metadata": {},
   "outputs": [],
   "source": [
    "grades['Anne'] = 'B'\n"
   ]
  },
  {
   "cell_type": "code",
   "execution_count": 147,
   "id": "b7502afe-c19f-46ed-87ed-aaa70218c36f",
   "metadata": {},
   "outputs": [
    {
     "name": "stdout",
     "output_type": "stream",
     "text": [
      "{'John': 'A', 'Anne': 'B'}\n"
     ]
    }
   ],
   "source": [
    "print(grades)"
   ]
  },
  {
   "cell_type": "code",
   "execution_count": 149,
   "id": "ab72af6d-9db9-4009-888e-b1dec3cc4633",
   "metadata": {},
   "outputs": [],
   "source": [
    "grades.update({'John':'F'})"
   ]
  },
  {
   "cell_type": "code",
   "execution_count": 150,
   "id": "07aec6b9-3571-457a-8225-5f8ee8b73811",
   "metadata": {},
   "outputs": [
    {
     "name": "stdout",
     "output_type": "stream",
     "text": [
      "{'John': 'F', 'Anne': 'B'}\n"
     ]
    }
   ],
   "source": [
    "print(grades)"
   ]
  },
  {
   "cell_type": "code",
   "execution_count": 151,
   "id": "a898c25f-dbcf-4857-91d9-8b5a23d6f5d9",
   "metadata": {},
   "outputs": [],
   "source": [
    "del grades['John']"
   ]
  },
  {
   "cell_type": "code",
   "execution_count": 152,
   "id": "03f4c0ce-5501-433c-b217-a4b591e428a6",
   "metadata": {},
   "outputs": [
    {
     "name": "stdout",
     "output_type": "stream",
     "text": [
      "{'Anne': 'B'}\n"
     ]
    }
   ],
   "source": [
    "print(grades)"
   ]
  },
  {
   "cell_type": "code",
   "execution_count": 153,
   "id": "d6e1dd78-2620-43c2-a2d4-c2100e0dac44",
   "metadata": {},
   "outputs": [
    {
     "name": "stdout",
     "output_type": "stream",
     "text": [
      "Anne got: B\n"
     ]
    }
   ],
   "source": [
    "if 'Anne' in grades:\n",
    "    print('Anne got:', grades['Anne'])"
   ]
  },
  {
   "cell_type": "code",
   "execution_count": 154,
   "id": "7da67f95-7c52-4e63-ab38-68aaa7969270",
   "metadata": {},
   "outputs": [
    {
     "name": "stdout",
     "output_type": "stream",
     "text": [
      "Anne\n"
     ]
    }
   ],
   "source": [
    "for el in grades.keys():\n",
    "    print(el)"
   ]
  },
  {
   "cell_type": "code",
   "execution_count": 155,
   "id": "3ad83c99-9ee5-4d7a-913f-055c07898503",
   "metadata": {},
   "outputs": [
    {
     "name": "stdout",
     "output_type": "stream",
     "text": [
      "B\n"
     ]
    }
   ],
   "source": [
    "for el in grades.values():\n",
    "    print(el)"
   ]
  },
  {
   "cell_type": "code",
   "execution_count": 156,
   "id": "b2382641-edc2-4cdc-89ca-7e38f4606b82",
   "metadata": {},
   "outputs": [
    {
     "name": "stdout",
     "output_type": "stream",
     "text": [
      "Anne got B\n"
     ]
    }
   ],
   "source": [
    "for person, grade in grades.items():\n",
    "    print(person, 'got', grade)"
   ]
  },
  {
   "cell_type": "code",
   "execution_count": 157,
   "id": "fa2661b8-11c1-4f6d-b948-f1f7947cf91f",
   "metadata": {},
   "outputs": [],
   "source": [
    " #functions that someone else created - alot of python defined functions \n",
    "#functions are isolated pieces of code \n",
    "\n",
    "#easy to get lost in programs with alot of line of code \n",
    "#repeat operations over and over in code \n",
    "\n",
    "#only need to fix a function once \n",
    "def greet():\n",
    "    print('Hello, my dear!')"
   ]
  },
  {
   "cell_type": "code",
   "execution_count": 158,
   "id": "21761d43-92f3-47a5-a128-09b848947c12",
   "metadata": {},
   "outputs": [
    {
     "name": "stdout",
     "output_type": "stream",
     "text": [
      "Hello, my dear!\n"
     ]
    }
   ],
   "source": [
    "\n",
    "greet()"
   ]
  },
  {
   "cell_type": "code",
   "execution_count": 159,
   "id": "bf2db420-3e3e-4265-a410-5e739bd79ac1",
   "metadata": {},
   "outputs": [],
   "source": [
    "def greet():\n",
    "    print('Hello, totally!')"
   ]
  },
  {
   "cell_type": "code",
   "execution_count": 160,
   "id": "df92d9aa-8591-4059-8ab5-988470463e2d",
   "metadata": {},
   "outputs": [
    {
     "name": "stdout",
     "output_type": "stream",
     "text": [
      "Hello, totally!\n"
     ]
    }
   ],
   "source": [
    "greet()"
   ]
  },
  {
   "cell_type": "code",
   "execution_count": 161,
   "id": "8de93a1d-0420-4e05-bb20-d3c1d96301a2",
   "metadata": {},
   "outputs": [
    {
     "name": "stdout",
     "output_type": "stream",
     "text": [
      "Hello, totally!\n",
      "Hello, totally!\n",
      "Hello, totally!\n",
      "Hello, totally!\n"
     ]
    }
   ],
   "source": [
    "greet()\n",
    "greet()\n",
    "greet()\n",
    "greet()"
   ]
  },
  {
   "cell_type": "code",
   "execution_count": 162,
   "id": "c95a2feb-4b89-4c66-b9ca-92bf972261f6",
   "metadata": {},
   "outputs": [],
   "source": [
    "#function definitions should go at the top of the file \n"
   ]
  },
  {
   "cell_type": "code",
   "execution_count": 170,
   "id": "eb1bd0b8-5936-442e-a644-ec6245f45c1d",
   "metadata": {},
   "outputs": [
    {
     "name": "stdout",
     "output_type": "stream",
     "text": [
      "3.0\n"
     ]
    }
   ],
   "source": [
    "#parameters are able to go into functions \n",
    "def get_average(input_numbers):\n",
    "    sum = 0.0\n",
    "    for number in input_numbers:\n",
    "        sum += number \n",
    "        average = sum / len(input_numbers)\n",
    "    print(average)\n",
    "\n",
    "get_average([1, 2, 3, 4, 5])\n"
   ]
  },
  {
   "cell_type": "code",
   "execution_count": 181,
   "id": "f64daf33-e030-41e4-91e1-ece8e000dc8f",
   "metadata": {},
   "outputs": [],
   "source": [
    "def print_letter_count(text='hello this is totally a string', letter='a'):\n",
    "    counter = 0\n",
    "    for char in text:\n",
    "        if char == letter:\n",
    "            counter += 1\n",
    "    print('Number of', letter, 'is', counter)"
   ]
  },
  {
   "cell_type": "code",
   "execution_count": 182,
   "id": "c732d36b-e26f-48c4-a262-5e7987e4838c",
   "metadata": {},
   "outputs": [
    {
     "name": "stdout",
     "output_type": "stream",
     "text": [
      "Number of a is 2\n"
     ]
    }
   ],
   "source": [
    "print_letter_count()\n"
   ]
  },
  {
   "cell_type": "code",
   "execution_count": 183,
   "id": "796c26a5-7948-4f4d-b789-bbaf805e3f8a",
   "metadata": {},
   "outputs": [
    {
     "name": "stdout",
     "output_type": "stream",
     "text": [
      "Number of a is 1\n"
     ]
    }
   ],
   "source": [
    "#keyword arguments must appear at the end \n",
    "print_letter_count('Search here', 'a')"
   ]
  },
  {
   "cell_type": "code",
   "execution_count": 198,
   "id": "111109e0-b744-41eb-9bd3-811c1218deee",
   "metadata": {},
   "outputs": [
    {
     "name": "stdout",
     "output_type": "stream",
     "text": [
      "['Surprise!']\n",
      "['Surprise!', 'New Surprise']\n",
      "['Surprise!', 'New Surprise']\n"
     ]
    }
   ],
   "source": [
    "#parameters can be used to enter arguments and pass values into a function \n",
    "\n",
    "def show_truth():\n",
    "    global mysterious_var\n",
    "    mysterious_var.append('New Surprise')\n",
    "    print(mysterious_var)\n",
    "mysterious_var = ['Surprise!']\n",
    "print(mysterious_var)\n",
    "show_truth()\n",
    "print(mysterious_var)"
   ]
  },
  {
   "cell_type": "code",
   "execution_count": 199,
   "id": "18da2dbe-1a4c-4976-b0b2-7edc46bd1bcb",
   "metadata": {},
   "outputs": [
    {
     "name": "stdout",
     "output_type": "stream",
     "text": [
      "hello\n"
     ]
    }
   ],
   "source": [
    "#shadowing will ensure that a functions variable will not change the global variable - the local won't change the global \n",
    "\n",
    "#non value \n",
    "#functions perform a function or evaluate a value \n",
    "\n",
    "print('hello')"
   ]
  },
  {
   "cell_type": "code",
   "execution_count": 200,
   "id": "380e2e83-c408-4092-aed2-4b79dce1b57a",
   "metadata": {},
   "outputs": [
    {
     "data": {
      "text/plain": [
       "5"
      ]
     },
     "execution_count": 200,
     "metadata": {},
     "output_type": "execute_result"
    }
   ],
   "source": [
    "len('hello')"
   ]
  },
  {
   "cell_type": "code",
   "execution_count": 201,
   "id": "7b9453de-4508-47f0-9b03-368b66de6a06",
   "metadata": {},
   "outputs": [],
   "source": [
    "length = len('hello')"
   ]
  },
  {
   "cell_type": "code",
   "execution_count": 202,
   "id": "72ec0325-9872-42e2-91ab-255ea6ed5b0f",
   "metadata": {},
   "outputs": [
    {
     "name": "stdout",
     "output_type": "stream",
     "text": [
      "5\n"
     ]
    }
   ],
   "source": [
    "\n",
    "print(length)"
   ]
  },
  {
   "cell_type": "raw",
   "id": "f8148cf1-11f6-485f-bb44-95b135319360",
   "metadata": {},
   "source": []
  },
  {
   "cell_type": "code",
   "execution_count": null,
   "id": "11d1d618-96be-4c9b-b3cb-ed9ac932f389",
   "metadata": {},
   "outputs": [],
   "source": []
  },
  {
   "cell_type": "code",
   "execution_count": 205,
   "id": "b6dc8c76-9b5f-4b5a-a1d0-e6503b1570fd",
   "metadata": {},
   "outputs": [
    {
     "name": "stdin",
     "output_type": "stream",
     "text": [
      "Please input a number:  21\n"
     ]
    },
    {
     "name": "stdout",
     "output_type": "stream",
     "text": [
      "Your number is:  21\n"
     ]
    }
   ],
   "source": [
    "number = input('Please input a number: ')\n",
    "print('Your number is: ', number)"
   ]
  },
  {
   "cell_type": "code",
   "execution_count": 206,
   "id": "53b9f2ad-5176-4c7f-b6c4-8c1987cfca6f",
   "metadata": {},
   "outputs": [
    {
     "name": "stdout",
     "output_type": "stream",
     "text": [
      "None is True\n",
      "None is none\n"
     ]
    }
   ],
   "source": [
    "x = None \n",
    "if x is None:\n",
    "    print('None is True')\n",
    "if x == None:\n",
    "    print('None is none')"
   ]
  },
  {
   "cell_type": "code",
   "execution_count": 207,
   "id": "388ad5bf-eeeb-4be3-a65e-bd3fa91784bc",
   "metadata": {},
   "outputs": [
    {
     "name": "stdout",
     "output_type": "stream",
     "text": [
      "The average is: 3.0\n"
     ]
    }
   ],
   "source": [
    "def get_average(input_numbers):\n",
    "    sum = 0.0\n",
    "    for number in input_numbers:\n",
    "        sum += number \n",
    "        average = sum / len(input_numbers)\n",
    "    return(average)\n",
    "    #no longer prints value or causes any effect, simply returns the value \n",
    "\n",
    "print('The average is:', get_average([1, 2, 3, 4, 5]))\n"
   ]
  },
  {
   "cell_type": "code",
   "execution_count": 209,
   "id": "bc71523a-8bd3-4498-8cbb-5912ca97e2d6",
   "metadata": {},
   "outputs": [
    {
     "name": "stdout",
     "output_type": "stream",
     "text": [
      "The average is less than 6\n"
     ]
    }
   ],
   "source": [
    "average = get_average([1, 2, 3, 4, 5])\n",
    "if average < 6.0:\n",
    "    print('The average is less than 6')"
   ]
  },
  {
   "cell_type": "code",
   "execution_count": 236,
   "id": "de421b4b-1d45-4cb7-a5f1-a3e16c7f7a95",
   "metadata": {},
   "outputs": [
    {
     "data": {
      "text/plain": [
       "True"
      ]
     },
     "execution_count": 236,
     "metadata": {},
     "output_type": "execute_result"
    }
   ],
   "source": [
    "def is_first_equal_last(number_list):\n",
    "    if len(number_list) == 0:\n",
    "        return None\n",
    "    if (number_list[0] == number_list[-1]):\n",
    "        return True\n",
    "    else:\n",
    "        return False\n",
    "\n",
    "is_first_equal_last([1, 2, 1])"
   ]
  },
  {
   "cell_type": "code",
   "execution_count": 239,
   "id": "81a86beb-51c2-4a9c-9494-a6e58215de1c",
   "metadata": {},
   "outputs": [
    {
     "name": "stdout",
     "output_type": "stream",
     "text": [
      "720\n"
     ]
    }
   ],
   "source": [
    "#recursion - when a function calls itself \n",
    "#multiplication of all numbers starting at 1 up to that number \n",
    "#get factorial \n",
    "\n",
    "def get_factorial(numbers):\n",
    "    factorial = 1\n",
    "    for x in range (1, numbers + 1):\n",
    "        factorial *= x\n",
    "    return factorial\n",
    "\n",
    "print(get_factorial(6))"
   ]
  },
  {
   "cell_type": "code",
   "execution_count": 242,
   "id": "5a52c3fa-62d3-4b0e-b936-8f371cfdc27a",
   "metadata": {},
   "outputs": [],
   "source": [
    "def get_factorial_recursive(number):\n",
    "    if number <= 1:\n",
    "        return 1\n",
    "    return number * get_factorial_recursive(number - 1)"
   ]
  },
  {
   "cell_type": "code",
   "execution_count": 244,
   "id": "1c0a1ccc-5098-4195-8720-7918313414c8",
   "metadata": {},
   "outputs": [
    {
     "data": {
      "text/plain": [
       "720"
      ]
     },
     "execution_count": 244,
     "metadata": {},
     "output_type": "execute_result"
    }
   ],
   "source": [
    "get_factorial_recursive(6)"
   ]
  },
  {
   "cell_type": "code",
   "execution_count": 245,
   "id": "87c9cba8-7a6b-4df8-b328-c41c0dccbcea",
   "metadata": {},
   "outputs": [
    {
     "name": "stdout",
     "output_type": "stream",
     "text": [
      "<generator object get_number at 0x00000113CE37DFF0>\n"
     ]
    }
   ],
   "source": [
    "#generators - module5 \n",
    "def get_number():\n",
    "    for i in range(1, 4):\n",
    "        yield i\n",
    "print(get_number())"
   ]
  },
  {
   "cell_type": "code",
   "execution_count": 253,
   "id": "9178f443-a3d3-428e-acf1-ea28356fdc8e",
   "metadata": {},
   "outputs": [
    {
     "name": "stdout",
     "output_type": "stream",
     "text": [
      "1\n",
      "2\n",
      "3\n"
     ]
    },
    {
     "ename": "StopIteration",
     "evalue": "",
     "output_type": "error",
     "traceback": [
      "\u001b[1;31m---------------------------------------------------------------------------\u001b[0m",
      "\u001b[1;31mStopIteration\u001b[0m                             Traceback (most recent call last)",
      "Cell \u001b[1;32mIn[253], line 5\u001b[0m\n\u001b[0;32m      3\u001b[0m \u001b[38;5;28mprint\u001b[39m(\u001b[38;5;28mnext\u001b[39m(generator))\n\u001b[0;32m      4\u001b[0m \u001b[38;5;28mprint\u001b[39m(\u001b[38;5;28mnext\u001b[39m(generator))\n\u001b[1;32m----> 5\u001b[0m \u001b[38;5;28mprint\u001b[39m(\u001b[38;5;28mnext\u001b[39m(generator))\n",
      "\u001b[1;31mStopIteration\u001b[0m: "
     ]
    }
   ],
   "source": [
    "generator = get_number()\n",
    "print(next(generator))\n",
    "print(next(generator))\n",
    "print(next(generator))\n",
    "print(next(generator))"
   ]
  },
  {
   "cell_type": "code",
   "execution_count": 254,
   "id": "d2b89214-4fda-435a-8717-d9bd9a8431f0",
   "metadata": {},
   "outputs": [
    {
     "name": "stdout",
     "output_type": "stream",
     "text": [
      "1\n",
      "2\n",
      "3\n"
     ]
    }
   ],
   "source": [
    "for x in get_number():\n",
    "    print(x)"
   ]
  },
  {
   "cell_type": "code",
   "execution_count": 255,
   "id": "44d8c829-1546-4013-9088-f1e222af3025",
   "metadata": {},
   "outputs": [
    {
     "name": "stdout",
     "output_type": "stream",
     "text": [
      "[1, 2, 3]\n"
     ]
    }
   ],
   "source": [
    "number = list(get_number())\n",
    "print(number)"
   ]
  },
  {
   "cell_type": "code",
   "execution_count": 258,
   "id": "34b4c37e-2f72-4a09-9fd3-421f3d30681e",
   "metadata": {},
   "outputs": [
    {
     "ename": "IndentationError",
     "evalue": "expected an indented block after 'if' statement on line 1 (2865449065.py, line 2)",
     "output_type": "error",
     "traceback": [
      "\u001b[1;36m  Cell \u001b[1;32mIn[258], line 2\u001b[1;36m\u001b[0m\n\u001b[1;33m    print('hooray!')\u001b[0m\n\u001b[1;37m    ^\u001b[0m\n\u001b[1;31mIndentationError\u001b[0m\u001b[1;31m:\u001b[0m expected an indented block after 'if' statement on line 1\n"
     ]
    }
   ],
   "source": [
    "if True:\n",
    "print('hooray!')\n",
    "#this generates an indention error \n"
   ]
  },
  {
   "cell_type": "code",
   "execution_count": 260,
   "id": "c2614f62-88e9-4bf5-a968-f84957714bd9",
   "metadata": {},
   "outputs": [
    {
     "name": "stdin",
     "output_type": "stream",
     "text": [
      "Enter an integer:  a\n"
     ]
    },
    {
     "ename": "ValueError",
     "evalue": "invalid literal for int() with base 10: 'a'",
     "output_type": "error",
     "traceback": [
      "\u001b[1;31m---------------------------------------------------------------------------\u001b[0m",
      "\u001b[1;31mValueError\u001b[0m                                Traceback (most recent call last)",
      "Cell \u001b[1;32mIn[260], line 1\u001b[0m\n\u001b[1;32m----> 1\u001b[0m value \u001b[38;5;241m=\u001b[39m \u001b[38;5;28mint\u001b[39m(\u001b[38;5;28minput\u001b[39m(\u001b[38;5;124m'\u001b[39m\u001b[38;5;124mEnter an integer: \u001b[39m\u001b[38;5;124m'\u001b[39m))\n\u001b[0;32m      2\u001b[0m \u001b[38;5;28mprint\u001b[39m(\u001b[38;5;124m'\u001b[39m\u001b[38;5;124mThe inverse of\u001b[39m\u001b[38;5;124m'\u001b[39m, value, \u001b[38;5;124m'\u001b[39m\u001b[38;5;124mis\u001b[39m\u001b[38;5;124m'\u001b[39m, \u001b[38;5;241m1\u001b[39m\u001b[38;5;241m/\u001b[39mvalue)\n",
      "\u001b[1;31mValueError\u001b[0m: invalid literal for int() with base 10: 'a'"
     ]
    }
   ],
   "source": [
    "value = int(input('Enter an integer: '))\n",
    "print('The inverse of', value, 'is', 1/value)"
   ]
  },
  {
   "cell_type": "code",
   "execution_count": 277,
   "id": "1a17416d-8e93-4a00-8be7-f097b62cce56",
   "metadata": {},
   "outputs": [
    {
     "ename": "SyntaxError",
     "evalue": "invalid syntax (2392143009.py, line 4)",
     "output_type": "error",
     "traceback": [
      "\u001b[1;36m  Cell \u001b[1;32mIn[277], line 4\u001b[1;36m\u001b[0m\n\u001b[1;33m    except ValueError:\u001b[0m\n\u001b[1;37m    ^\u001b[0m\n\u001b[1;31mSyntaxError\u001b[0m\u001b[1;31m:\u001b[0m invalid syntax\n"
     ]
    }
   ],
   "source": [
    "#this generatets a value error because pythton expected to receive an integer \n",
    "#handle instruction witht a special type of structure - try and accept\n",
    "\n",
    "try:\n",
    "    value = int(input('Enter an integer: '))\n",
    "    print('The inverse of', value, 'is', 1/value)\n",
    "    \n",
    "except ValueError:\n",
    "    #print('You did not provide a number, so I will not calculate the inverse')\n",
    "#except ZeroDivisionError:\n",
    "    #print('Sorry, you can't divide by zero')\n",
    "#except:\n",
    "    #print('Something strange happened here, sorry.')"
   ]
  },
  {
   "cell_type": "code",
   "execution_count": 278,
   "id": "283703ea-5059-443c-bf20-fb9261723db1",
   "metadata": {},
   "outputs": [
    {
     "ename": "SyntaxError",
     "evalue": "invalid syntax (3871203870.py, line 1)",
     "output_type": "error",
     "traceback": [
      "\u001b[1;36m  Cell \u001b[1;32mIn[278], line 1\u001b[1;36m\u001b[0m\n\u001b[1;33m    except ValueError:\u001b[0m\n\u001b[1;37m    ^\u001b[0m\n\u001b[1;31mSyntaxError\u001b[0m\u001b[1;31m:\u001b[0m invalid syntax\n"
     ]
    }
   ],
   "source": [
    "except ValueError:\n",
    "    #print('You did not provide a number, so I will not calculate the inverse')\n",
    "#except ZeroDivisionError:\n",
    "    #print('Sorry, you can't divide by zero')\n",
    "#except:\n",
    "    print('Something strange happened here, sorry.')"
   ]
  },
  {
   "cell_type": "code",
   "execution_count": 288,
   "id": "f0213081-49d0-41bb-b009-eb3b5575b378",
   "metadata": {},
   "outputs": [
    {
     "name": "stdin",
     "output_type": "stream",
     "text": [
      "Enter an integer:  0\n"
     ]
    },
    {
     "name": "stdout",
     "output_type": "stream",
     "text": [
      "You provided 0 and division by 0 is not possible, sorry\n"
     ]
    }
   ],
   "source": [
    "try:\n",
    "    value = int(input('Enter an integer: '))\n",
    "    print('The inverse of', value, 'is', 1/value)\n",
    "    \n",
    "except ValueError:\n",
    "    print('You did not provide a number, so I will not calculate the inverse')\n",
    "except ZeroDivisionError:\n",
    "    print('You provided 0 and division by 0 is not possible, sorry')\n",
    "except:\n",
    "    print('Something strange happened here, sorry.')  "
   ]
  },
  {
   "cell_type": "code",
   "execution_count": null,
   "id": "d967582d-3eb4-4731-b027-b61dbb667659",
   "metadata": {},
   "outputs": [],
   "source": []
  },
  {
   "cell_type": "code",
   "execution_count": 289,
   "id": "a8e5b353-8a0b-4eec-8773-7d876b069867",
   "metadata": {},
   "outputs": [
    {
     "name": "stdin",
     "output_type": "stream",
     "text": [
      "What is your name?  \n"
     ]
    },
    {
     "name": "stdout",
     "output_type": "stream",
     "text": [
      "Empty name? I cannot work with that, I am closing the program. Bye!\n"
     ]
    },
    {
     "ename": "SystemExit",
     "evalue": "",
     "output_type": "error",
     "traceback": [
      "An exception has occurred, use %tb to see the full traceback.\n",
      "\u001b[1;31mSystemExit\u001b[0m\n"
     ]
    },
    {
     "name": "stderr",
     "output_type": "stream",
     "text": [
      "C:\\Users\\Joe\\anaconda3\\Lib\\site-packages\\IPython\\core\\interactiveshell.py:3585: UserWarning: To exit: use 'exit', 'quit', or Ctrl-D.\n",
      "  warn(\"To exit: use 'exit', 'quit', or Ctrl-D.\", stacklevel=1)\n"
     ]
    }
   ],
   "source": [
    "#heirarchy - baseexception - exceptions \n",
    "#exception - system exit - keyboardinterrupt\n",
    "#Arithmeticerror - lookupError \n",
    "\n",
    "import sys\n",
    "user_name = input('What is your name? ')\n",
    "if user_name == '':\n",
    "    print('Empty name? I cannot work with that, I am closing the program. Bye!')\n",
    "    sys.exit()\n",
    "    "
   ]
  },
  {
   "cell_type": "markdown",
   "id": "cd6ee01b-dc63-4308-9341-1c7d4d3cbbc1",
   "metadata": {},
   "source": [
    "while True:\n",
    "    print('Hi')"
   ]
  },
  {
   "cell_type": "code",
   "execution_count": 291,
   "id": "e6a28d45-41a8-4a13-bd2c-62a56e782601",
   "metadata": {},
   "outputs": [
    {
     "ename": "IndexError",
     "evalue": "list index out of range",
     "output_type": "error",
     "traceback": [
      "\u001b[1;31m---------------------------------------------------------------------------\u001b[0m",
      "\u001b[1;31mIndexError\u001b[0m                                Traceback (most recent call last)",
      "Cell \u001b[1;32mIn[291], line 7\u001b[0m\n\u001b[0;32m      1\u001b[0m \u001b[38;5;66;03m#arithmetic error\u001b[39;00m\n\u001b[0;32m      2\u001b[0m \u001b[38;5;66;03m#base class for many mathematic errors\u001b[39;00m\n\u001b[0;32m      3\u001b[0m \u001b[38;5;66;03m#zero division error is when we try to divide by zero \u001b[39;00m\n\u001b[0;32m      4\u001b[0m \n\u001b[0;32m      5\u001b[0m \u001b[38;5;66;03m#index error\u001b[39;00m\n\u001b[0;32m      6\u001b[0m programming_languages \u001b[38;5;241m=\u001b[39m [\u001b[38;5;124m'\u001b[39m\u001b[38;5;124mpython\u001b[39m\u001b[38;5;124m'\u001b[39m, \u001b[38;5;124m'\u001b[39m\u001b[38;5;124mjava\u001b[39m\u001b[38;5;124m'\u001b[39m, \u001b[38;5;124m'\u001b[39m\u001b[38;5;124mc++\u001b[39m\u001b[38;5;124m'\u001b[39m]\n\u001b[1;32m----> 7\u001b[0m \u001b[38;5;28mprint\u001b[39m(programming_languages[\u001b[38;5;241m10\u001b[39m])\n",
      "\u001b[1;31mIndexError\u001b[0m: list index out of range"
     ]
    }
   ],
   "source": [
    "#arithmetic error\n",
    "#base class for many mathematic errors\n",
    "#zero division error is when we try to divide by zero \n",
    "\n",
    "#index error\n",
    "programming_languages = ['python', 'java', 'c++']\n",
    "print(programming_languages[10])"
   ]
  },
  {
   "cell_type": "code",
   "execution_count": 292,
   "id": "0b7f99da-2a5e-4e72-b7af-1ac3b2565fde",
   "metadata": {},
   "outputs": [],
   "source": [
    "#index error\n",
    "ages = {'Jim':20, 'Todd':30, 'June':21}"
   ]
  },
  {
   "cell_type": "code",
   "execution_count": 293,
   "id": "6d3917e2-0743-46a5-938a-6d5799a4d9d0",
   "metadata": {},
   "outputs": [
    {
     "ename": "KeyError",
     "evalue": "'Bob'",
     "output_type": "error",
     "traceback": [
      "\u001b[1;31m---------------------------------------------------------------------------\u001b[0m",
      "\u001b[1;31mKeyError\u001b[0m                                  Traceback (most recent call last)",
      "Cell \u001b[1;32mIn[293], line 1\u001b[0m\n\u001b[1;32m----> 1\u001b[0m ages[\u001b[38;5;124m'\u001b[39m\u001b[38;5;124mBob\u001b[39m\u001b[38;5;124m'\u001b[39m]\n",
      "\u001b[1;31mKeyError\u001b[0m: 'Bob'"
     ]
    }
   ],
   "source": [
    "ages['Bob']"
   ]
  },
  {
   "cell_type": "code",
   "execution_count": 295,
   "id": "ef9a0d3d-65d0-4089-a20c-113ab9812f86",
   "metadata": {},
   "outputs": [
    {
     "name": "stdin",
     "output_type": "stream",
     "text": [
      "What is your age?  b\n"
     ]
    },
    {
     "ename": "ValueError",
     "evalue": "invalid literal for int() with base 10: 'b'",
     "output_type": "error",
     "traceback": [
      "\u001b[1;31m---------------------------------------------------------------------------\u001b[0m",
      "\u001b[1;31mValueError\u001b[0m                                Traceback (most recent call last)",
      "Cell \u001b[1;32mIn[295], line 1\u001b[0m\n\u001b[1;32m----> 1\u001b[0m age \u001b[38;5;241m=\u001b[39m \u001b[38;5;28mint\u001b[39m(\u001b[38;5;28minput\u001b[39m(\u001b[38;5;124m'\u001b[39m\u001b[38;5;124mWhat is your age? \u001b[39m\u001b[38;5;124m'\u001b[39m))\n",
      "\u001b[1;31mValueError\u001b[0m: invalid literal for int() with base 10: 'b'"
     ]
    }
   ],
   "source": [
    "age = int(input('What is your age? '))\n"
   ]
  },
  {
   "cell_type": "code",
   "execution_count": 296,
   "id": "46301af6-fcb4-4e45-ae91-7ef38278cb38",
   "metadata": {},
   "outputs": [],
   "source": [
    "#value error is raised when an unexpected value is provided to the input function \n",
    "\n"
   ]
  },
  {
   "cell_type": "code",
   "execution_count": 303,
   "id": "c2a1f71d-35bb-41da-b622-95ab69012ecc",
   "metadata": {},
   "outputs": [
    {
     "ename": "AssertionError",
     "evalue": "Got 0 as a number!",
     "output_type": "error",
     "traceback": [
      "\u001b[1;31m---------------------------------------------------------------------------\u001b[0m",
      "\u001b[1;31mAssertionError\u001b[0m                            Traceback (most recent call last)",
      "Cell \u001b[1;32mIn[303], line 13\u001b[0m\n\u001b[0;32m     10\u001b[0m     \u001b[38;5;28;01massert\u001b[39;00m (number \u001b[38;5;241m!=\u001b[39m \u001b[38;5;241m0\u001b[39m), \u001b[38;5;124m'\u001b[39m\u001b[38;5;124mGot 0 as a number!\u001b[39m\u001b[38;5;124m'\u001b[39m\n\u001b[0;32m     11\u001b[0m     \u001b[38;5;28;01mreturn\u001b[39;00m \u001b[38;5;241m1\u001b[39m\u001b[38;5;241m/\u001b[39mnumber\n\u001b[1;32m---> 13\u001b[0m calculate_inverse(\u001b[38;5;241m0\u001b[39m)\n",
      "Cell \u001b[1;32mIn[303], line 10\u001b[0m, in \u001b[0;36mcalculate_inverse\u001b[1;34m(number)\u001b[0m\n\u001b[0;32m      9\u001b[0m \u001b[38;5;28;01mdef\u001b[39;00m \u001b[38;5;21mcalculate_inverse\u001b[39m(number):\n\u001b[1;32m---> 10\u001b[0m     \u001b[38;5;28;01massert\u001b[39;00m (number \u001b[38;5;241m!=\u001b[39m \u001b[38;5;241m0\u001b[39m), \u001b[38;5;124m'\u001b[39m\u001b[38;5;124mGot 0 as a number!\u001b[39m\u001b[38;5;124m'\u001b[39m\n\u001b[0;32m     11\u001b[0m     \u001b[38;5;28;01mreturn\u001b[39;00m \u001b[38;5;241m1\u001b[39m\u001b[38;5;241m/\u001b[39mnumber\n",
      "\u001b[1;31mAssertionError\u001b[0m: Got 0 as a number!"
     ]
    }
   ],
   "source": [
    "#multiple functions may call eachother - calling 3 other functions \n",
    "#each piece of the function collects a piece of information from the user \n",
    "# we can use try except statements to handle exceptions \n",
    "# we can use a single try accept statement for multiple function definitions \n",
    "# a single try accept statement can handle all exceptions in multiple blocks - exception propogation \n",
    "\n",
    "#assertions are assumptions in our program that we think should always be true \n",
    "\n",
    "def calculate_inverse(number):\n",
    "    assert (number != 0), 'Got 0 as a number!'\n",
    "    return 1/number\n",
    "    \n",
    "calculate_inverse(0)"
   ]
  },
  {
   "cell_type": "code",
   "execution_count": null,
   "id": "8c6746b3-cfe3-41a7-828c-adc994a134b5",
   "metadata": {},
   "outputs": [],
   "source": []
  }
 ],
 "metadata": {
  "kernelspec": {
   "display_name": "Python 3 (ipykernel)",
   "language": "python",
   "name": "python3"
  },
  "language_info": {
   "codemirror_mode": {
    "name": "ipython",
    "version": 3
   },
   "file_extension": ".py",
   "mimetype": "text/x-python",
   "name": "python",
   "nbconvert_exporter": "python",
   "pygments_lexer": "ipython3",
   "version": "3.12.7"
  }
 },
 "nbformat": 4,
 "nbformat_minor": 5
}
